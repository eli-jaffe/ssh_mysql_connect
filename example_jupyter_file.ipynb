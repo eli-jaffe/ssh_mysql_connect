{
 "cells": [
  {
   "cell_type": "markdown",
   "id": "470ecb74",
   "metadata": {},
   "source": [
    "# Example Jupyter Notebook skeleton\n",
    "\n",
    "Once the other files are set up, you can connect in your Jupyter Notebook using this skeleton. Make sure that your ipynb file is saved in the same directory as the other files."
   ]
  },
  {
   "cell_type": "code",
   "execution_count": null,
   "id": "5ddff959",
   "metadata": {},
   "outputs": [],
   "source": [
    "import pandas as pd\n",
    "import matplotlib.pyplot as plt\n",
    "import numpy as np\n",
    "\n",
    "import mypython_dbconnector"
   ]
  },
  {
   "cell_type": "code",
   "execution_count": null,
   "id": "6053c7d1",
   "metadata": {},
   "outputs": [],
   "source": [
    "# connect to ssh tunnel and to mysql db\n",
    "mypython_dbconnector.open_ssh_tunnel()\n",
    "mypython_dbconnector.mysql_connect()"
   ]
  },
  {
   "cell_type": "code",
   "execution_count": null,
   "id": "4eb5b120",
   "metadata": {},
   "outputs": [],
   "source": [
    "# define query\n",
    "query = '''\n",
    "SELECT\n",
    "    *\n",
    "FROM\n",
    "    table_name\n",
    "'''"
   ]
  },
  {
   "cell_type": "code",
   "execution_count": null,
   "id": "a8bcb453",
   "metadata": {},
   "outputs": [],
   "source": [
    "df = mypython_dbconnector.run_query(query)"
   ]
  },
  {
   "cell_type": "code",
   "execution_count": null,
   "id": "74eab203",
   "metadata": {},
   "outputs": [],
   "source": [
    "# your data analysis here\n",
    "# TODO"
   ]
  },
  {
   "cell_type": "code",
   "execution_count": null,
   "id": "07df6536",
   "metadata": {},
   "outputs": [],
   "source": [
    "# close mysql connection and close ssh tunnel\n",
    "mypython_dbconnector.mysql_disconnect()\n",
    "mypython_dbconnector.close_ssh_tunnel()"
   ]
  }
 ],
 "metadata": {
  "kernelspec": {
   "display_name": "Python 3 (ipykernel)",
   "language": "python",
   "name": "python3"
  },
  "language_info": {
   "codemirror_mode": {
    "name": "ipython",
    "version": 3
   },
   "file_extension": ".py",
   "mimetype": "text/x-python",
   "name": "python",
   "nbconvert_exporter": "python",
   "pygments_lexer": "ipython3",
   "version": "3.8.8"
  }
 },
 "nbformat": 4,
 "nbformat_minor": 5
}
